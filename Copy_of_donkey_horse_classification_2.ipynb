{
  "cells": [
    {
      "cell_type": "code",
      "execution_count": 17,
      "metadata": {
        "id": "SMPHESYVVnzp"
      },
      "outputs": [],
      "source": [
        "# Define paths to the dataset\n",
        "train_dir = '/content/drive/MyDrive/train'  # Update with your actual path\n",
        "test_dir = '/content/drive/MyDrive/test'    # Update with your actual path"
      ]
    },
    {
      "cell_type": "code",
      "execution_count": 18,
      "metadata": {
        "colab": {
          "base_uri": "https://localhost:8080/"
        },
        "id": "wwfZiLtU6Ruq",
        "outputId": "ab4522fb-8ee1-4f99-cda7-6c2a055fb84d"
      },
      "outputs": [
        {
          "output_type": "stream",
          "name": "stdout",
          "text": [
            "399\n",
            "384\n",
            "80\n",
            "93\n"
          ]
        }
      ],
      "source": [
        "import os\n",
        "print(len(os.listdir('/content/drive/MyDrive/train/donkey')))\n",
        "print(len(os.listdir('/content/drive/MyDrive/train/horse')))\n",
        "print(len(os.listdir('/content/drive/MyDrive/test/donkey')))\n",
        "print(len(os.listdir('/content/drive/MyDrive/test/horse')))"
      ]
    },
    {
      "cell_type": "code",
      "execution_count": 6,
      "metadata": {
        "colab": {
          "base_uri": "https://localhost:8080/"
        },
        "id": "kf8li3JNUJR1",
        "outputId": "7cb478e7-0acc-41c6-b8dc-8fa7105b087b"
      },
      "outputs": [
        {
          "output_type": "stream",
          "name": "stdout",
          "text": [
            "Found 628 images belonging to 3 classes.\n",
            "Found 155 images belonging to 3 classes.\n"
          ]
        }
      ],
      "source": [
        "import tensorflow as tf\n",
        "from tensorflow.keras.preprocessing.image import ImageDataGenerator\n",
        "\n",
        "# Create ImageDataGenerator for training set\n",
        "train_datagen = ImageDataGenerator(\n",
        "    rescale=1./255,\n",
        "    validation_split=0.2  # Split 20% of the images for validation\n",
        ")\n",
        "\n",
        "# Load and prepare training data\n",
        "train_data = train_datagen.flow_from_directory(\n",
        "    train_dir,\n",
        "    target_size=(256,256),\n",
        "    batch_size=32,\n",
        "    class_mode='binary',  # 'binary' for binary classification (donkey vs. horse)\n",
        "    subset='training'  # Specify 'training' for the training set\n",
        ")\n",
        "\n",
        "# Create ImageDataGenerator for validation set\n",
        "validation_datagen = ImageDataGenerator(\n",
        "    rescale=1./255,\n",
        "    validation_split=0.2  # Note: Using the same validation split as in the training set\n",
        ")\n",
        "\n",
        "# Load and prepare validation data\n",
        "validation_data = validation_datagen.flow_from_directory(\n",
        "    train_dir,\n",
        "    target_size=(256,256),\n",
        "    batch_size=32,\n",
        "    class_mode='binary',\n",
        "    subset='validation'  # Specify 'validation' for the validation set\n",
        ")"
      ]
    },
    {
      "cell_type": "code",
      "execution_count": 7,
      "metadata": {
        "id": "wGp6oIfQWMFh"
      },
      "outputs": [],
      "source": [
        "from tensorflow import keras\n",
        "from keras import Sequential\n",
        "from keras.layers import Dense,Conv2D,MaxPooling2D,Flatten,BatchNormalization,UpSampling2D, Dropout"
      ]
    },
    {
      "cell_type": "code",
      "execution_count": 8,
      "metadata": {
        "id": "6liLEEzLWNB5"
      },
      "outputs": [],
      "source": [
        "# create CNN model\n",
        "\n",
        "model = Sequential()\n",
        "\n",
        "model.add(Conv2D(32,kernel_size=(3,3),padding='valid',activation='relu',input_shape=(256,256,3)))  # 32 filters\n",
        "#model.add(BatchNormalization())  # added to reduce overfitting\n",
        "model.add(MaxPooling2D(pool_size=(2,2),strides=2,padding='valid'))\n",
        "\n",
        "model.add(Conv2D(64,kernel_size=(3,3),padding='valid',activation='relu'))\n",
        "#model.add(BatchNormalization())  # added to reduce overfitting\n",
        "model.add(MaxPooling2D(pool_size=(2,2),strides=2,padding='valid'))\n",
        "\n",
        "model.add(Conv2D(128,kernel_size=(3,3),padding='valid',activation='relu'))\n",
        "#model.add(BatchNormalization())  # added to reduce overfitting\n",
        "model.add(MaxPooling2D(pool_size=(2,2),strides=2,padding='valid'))\n",
        "\n",
        "model.add(Flatten())\n",
        "\n",
        "model.add(Dense(128,activation='relu')) #feature reduction\n",
        "#model.add(Dropout(0.1))  # added to reduce overfitting\n",
        "model.add(Dense(64,activation='relu'))\n",
        "#model.add(Dropout(0.1))  # added to reduce overfitting\n",
        "model.add(Dense(1,activation='sigmoid'))  #output layer"
      ]
    },
    {
      "cell_type": "code",
      "execution_count": 12,
      "metadata": {
        "id": "SeBjyn0iWXgY"
      },
      "outputs": [],
      "source": [
        "from keras.optimizers import Adam\n",
        "model.compile(optimizer=Adam(learning_rate=0.001),loss='binary_crossentropy',metrics=['accuracy']) #binary_crossentropy - binary classification"
      ]
    },
    {
      "cell_type": "code",
      "execution_count": 13,
      "metadata": {
        "colab": {
          "base_uri": "https://localhost:8080/"
        },
        "id": "lGbY2VpIWbTt",
        "outputId": "8adc1e0c-eb82-4dd8-d3e0-f3a43e69463a"
      },
      "outputs": [
        {
          "output_type": "stream",
          "name": "stdout",
          "text": [
            "Epoch 1/30\n",
            "20/20 [==============================] - 116s 5s/step - loss: -7270.9902 - accuracy: 0.4873 - val_loss: -57958.4531 - val_accuracy: 0.5097\n",
            "Epoch 2/30\n",
            "20/20 [==============================] - 92s 5s/step - loss: -902995.2500 - accuracy: 0.5096 - val_loss: -4160278.2500 - val_accuracy: 0.5097\n",
            "Epoch 3/30\n",
            "20/20 [==============================] - 91s 4s/step - loss: -23714236.0000 - accuracy: 0.5096 - val_loss: -75120944.0000 - val_accuracy: 0.5097\n",
            "Epoch 4/30\n",
            "20/20 [==============================] - 100s 5s/step - loss: -268434992.0000 - accuracy: 0.5096 - val_loss: -666788160.0000 - val_accuracy: 0.5097\n",
            "Epoch 5/30\n",
            "20/20 [==============================] - 94s 5s/step - loss: -1649167104.0000 - accuracy: 0.5096 - val_loss: -3765858048.0000 - val_accuracy: 0.5097\n",
            "Epoch 6/30\n",
            "20/20 [==============================] - 91s 5s/step - loss: -8458637824.0000 - accuracy: 0.5096 - val_loss: -15936260096.0000 - val_accuracy: 0.5097\n",
            "Epoch 7/30\n",
            "20/20 [==============================] - 91s 5s/step - loss: -29779859456.0000 - accuracy: 0.5096 - val_loss: -53212016640.0000 - val_accuracy: 0.5097\n",
            "Epoch 8/30\n",
            "20/20 [==============================] - 92s 5s/step - loss: -90199179264.0000 - accuracy: 0.5096 - val_loss: -150443425792.0000 - val_accuracy: 0.5097\n",
            "Epoch 9/30\n",
            "20/20 [==============================] - 93s 5s/step - loss: -242237997056.0000 - accuracy: 0.5096 - val_loss: -374014148608.0000 - val_accuracy: 0.5097\n",
            "Epoch 10/30\n",
            "20/20 [==============================] - 90s 5s/step - loss: -558475640832.0000 - accuracy: 0.5096 - val_loss: -837650546688.0000 - val_accuracy: 0.5097\n",
            "Epoch 11/30\n",
            "20/20 [==============================] - 98s 5s/step - loss: -1199305129984.0000 - accuracy: 0.5096 - val_loss: -1721179045888.0000 - val_accuracy: 0.5097\n",
            "Epoch 12/30\n",
            "20/20 [==============================] - 90s 5s/step - loss: -2367976112128.0000 - accuracy: 0.5096 - val_loss: -3308177588224.0000 - val_accuracy: 0.5097\n",
            "Epoch 13/30\n",
            "20/20 [==============================] - 90s 5s/step - loss: -4438043918336.0000 - accuracy: 0.5096 - val_loss: -5975722426368.0000 - val_accuracy: 0.5097\n",
            "Epoch 14/30\n",
            "20/20 [==============================] - 93s 5s/step - loss: -7775549128704.0000 - accuracy: 0.5096 - val_loss: -10362301710336.0000 - val_accuracy: 0.5097\n",
            "Epoch 15/30\n",
            "20/20 [==============================] - 90s 5s/step - loss: -13002909679616.0000 - accuracy: 0.5096 - val_loss: -17190338166784.0000 - val_accuracy: 0.5097\n",
            "Epoch 16/30\n",
            "20/20 [==============================] - 92s 5s/step - loss: -21135244656640.0000 - accuracy: 0.5096 - val_loss: -27383870521344.0000 - val_accuracy: 0.5097\n",
            "Epoch 17/30\n",
            "20/20 [==============================] - 98s 5s/step - loss: -33303843307520.0000 - accuracy: 0.5096 - val_loss: -42149005492224.0000 - val_accuracy: 0.5097\n",
            "Epoch 18/30\n",
            "20/20 [==============================] - 91s 5s/step - loss: -50832208822272.0000 - accuracy: 0.5096 - val_loss: -63474365366272.0000 - val_accuracy: 0.5097\n",
            "Epoch 19/30\n",
            "20/20 [==============================] - 89s 5s/step - loss: -76031440453632.0000 - accuracy: 0.5096 - val_loss: -92967368916992.0000 - val_accuracy: 0.5097\n",
            "Epoch 20/30\n",
            "20/20 [==============================] - 90s 5s/step - loss: -109544600502272.0000 - accuracy: 0.5096 - val_loss: -133518143258624.0000 - val_accuracy: 0.5097\n",
            "Epoch 21/30\n",
            "20/20 [==============================] - 89s 4s/step - loss: -155582522720256.0000 - accuracy: 0.5096 - val_loss: -186907178827776.0000 - val_accuracy: 0.5097\n",
            "Epoch 22/30\n",
            "20/20 [==============================] - 92s 5s/step - loss: -214281807200256.0000 - accuracy: 0.5096 - val_loss: -258453113143296.0000 - val_accuracy: 0.5097\n",
            "Epoch 23/30\n",
            "20/20 [==============================] - 89s 5s/step - loss: -295231891177472.0000 - accuracy: 0.5096 - val_loss: -348170517217280.0000 - val_accuracy: 0.5097\n",
            "Epoch 24/30\n",
            "20/20 [==============================] - 97s 5s/step - loss: -395327110643712.0000 - accuracy: 0.5096 - val_loss: -465250755280896.0000 - val_accuracy: 0.5097\n",
            "Epoch 25/30\n",
            "20/20 [==============================] - 90s 5s/step - loss: -523125439594496.0000 - accuracy: 0.5096 - val_loss: -614869397143552.0000 - val_accuracy: 0.5097\n",
            "Epoch 26/30\n",
            "20/20 [==============================] - 93s 5s/step - loss: -689374060609536.0000 - accuracy: 0.5096 - val_loss: -797447718699008.0000 - val_accuracy: 0.5097\n",
            "Epoch 27/30\n",
            "20/20 [==============================] - 92s 5s/step - loss: -887561501278208.0000 - accuracy: 0.5096 - val_loss: -1027335239237632.0000 - val_accuracy: 0.5097\n",
            "Epoch 28/30\n",
            "20/20 [==============================] - 89s 4s/step - loss: -1138733537558528.0000 - accuracy: 0.5096 - val_loss: -1306171629633536.0000 - val_accuracy: 0.5097\n",
            "Epoch 29/30\n",
            "20/20 [==============================] - 90s 5s/step - loss: -1434717584883712.0000 - accuracy: 0.5096 - val_loss: -1652102791168000.0000 - val_accuracy: 0.5097\n",
            "Epoch 30/30\n",
            "20/20 [==============================] - 89s 4s/step - loss: -1805509493522432.0000 - accuracy: 0.5096 - val_loss: -2060442243432448.0000 - val_accuracy: 0.5097\n"
          ]
        }
      ],
      "source": [
        "history = model.fit(train_data, epochs=30, validation_data=validation_data)"
      ]
    },
    {
      "cell_type": "code",
      "execution_count": 14,
      "metadata": {
        "id": "g21dMlSOWKas",
        "colab": {
          "base_uri": "https://localhost:8080/",
          "height": 430
        },
        "outputId": "e2b8cb08-e3cf-4421-87ed-611522a26d91"
      },
      "outputs": [
        {
          "output_type": "display_data",
          "data": {
            "text/plain": [
              "<Figure size 640x480 with 1 Axes>"
            ],
            "image/png": "[encoded data removed]"
          },
          "metadata": {}
        }
      ],
      "source": [
        "import matplotlib.pyplot as plt\n",
        "\n",
        "plt.plot(history.history['accuracy'],color='red',label='train')\n",
        "plt.plot(history.history['val_accuracy'],color='blue',label='validation')\n",
        "plt.legend()\n",
        "plt.show()"
      ]
    },
    {
      "cell_type": "code",
      "execution_count": 15,
      "metadata": {
        "id": "FYZ0VJp4esXl",
        "colab": {
          "base_uri": "https://localhost:8080/",
          "height": 445
        },
        "outputId": "084f9f61-f500-4169-e6dc-6bcbed7d0f67"
      },
      "outputs": [
        {
          "output_type": "display_data",
          "data": {
            "text/plain": [
              "<Figure size 640x480 with 1 Axes>"
            ],
            "image/png": "[encoded data removed]"
          },
          "metadata": {}
        }
      ],
      "source": [
        "plt.plot(history.history['loss'],color='red',label='train')\n",
        "plt.plot(history.history['val_loss'],color='blue',label='validation')\n",
        "plt.legend()\n",
        "plt.show()"
      ]
    },
    {
      "cell_type": "code",
      "execution_count": null,
      "metadata": {
        "id": "tQj_RyrZWBEt",
        "colab": {
          "base_uri": "https://localhost:8080/"
        },
        "outputId": "bd6d03b5-1dfe-4a33-82d6-640463286024"
      },
      "outputs": [
        {
          "output_type": "stream",
          "name": "stdout",
          "text": [
            "Found 80 images belonging to 2 classes.\n"
          ]
        }
      ],
      "source": [
        "test_datagen = ImageDataGenerator(rescale=1./255)\n",
        "test_data = test_datagen.flow_from_directory(\n",
        "    test_dir,\n",
        "    target_size=(256,256),\n",
        "    batch_size=32,\n",
        "    class_mode='binary'\n",
        ")"
      ]
    },
    {
      "cell_type": "code",
      "execution_count": null,
      "metadata": {
        "id": "glicW8_5vTqd",
        "colab": {
          "base_uri": "https://localhost:8080/"
        },
        "outputId": "35aae6c6-473a-4bf5-dfab-94f8bcae62b2"
      },
      "outputs": [
        {
          "output_type": "stream",
          "name": "stdout",
          "text": [
            "3/3 [==============================] - 12s 5s/step\n",
            "[[8.8087922e-01]\n",
            " [9.9995542e-01]\n",
            " [6.6216751e-03]\n",
            " [9.9682033e-01]\n",
            " [9.9999934e-01]\n",
            " [2.9281677e-34]\n",
            " [9.9999988e-01]\n",
            " [1.0000000e+00]\n",
            " [6.6215765e-01]\n",
            " [8.6950731e-01]\n",
            " [9.8892725e-01]\n",
            " [1.0000000e+00]\n",
            " [5.5626136e-01]\n",
            " [3.7945461e-02]\n",
            " [1.0000000e+00]\n",
            " [4.8038964e-06]\n",
            " [7.1801776e-05]\n",
            " [9.9992162e-01]\n",
            " [1.2741400e-03]\n",
            " [5.1735550e-01]\n",
            " [3.9517907e-03]\n",
            " [9.9999475e-01]\n",
            " [9.0276664e-01]\n",
            " [5.3690661e-02]\n",
            " [5.8307303e-10]\n",
            " [1.5632885e-17]\n",
            " [9.9954194e-01]\n",
            " [9.9999779e-01]\n",
            " [9.9999869e-01]\n",
            " [9.9999988e-01]\n",
            " [7.4949142e-08]\n",
            " [1.0000000e+00]\n",
            " [4.6216372e-10]\n",
            " [5.5906938e-08]\n",
            " [9.9998981e-01]\n",
            " [2.3634012e-26]\n",
            " [8.0124205e-01]\n",
            " [1.5778935e-08]\n",
            " [6.0334706e-01]\n",
            " [7.1299888e-15]\n",
            " [9.9641651e-01]\n",
            " [2.6856476e-01]\n",
            " [1.8421044e-07]\n",
            " [9.0009480e-16]\n",
            " [9.9990571e-01]\n",
            " [3.2574215e-03]\n",
            " [1.3866763e-08]\n",
            " [4.4051805e-04]\n",
            " [4.9833614e-07]\n",
            " [1.0000000e+00]\n",
            " [1.8505611e-02]\n",
            " [9.7828537e-01]\n",
            " [1.8914048e-02]\n",
            " [9.9950498e-01]\n",
            " [5.2385833e-05]\n",
            " [9.9085343e-01]\n",
            " [7.8699260e-04]\n",
            " [3.8699326e-15]\n",
            " [1.3618092e-13]\n",
            " [2.0048910e-06]\n",
            " [9.9977851e-01]\n",
            " [1.0000000e+00]\n",
            " [1.0000000e+00]\n",
            " [9.9999988e-01]\n",
            " [3.2634991e-01]\n",
            " [2.2200219e-09]\n",
            " [5.8986214e-03]\n",
            " [1.1392862e-01]\n",
            " [9.9775130e-01]\n",
            " [6.0797567e-05]\n",
            " [9.9994171e-01]\n",
            " [1.0000000e+00]\n",
            " [1.0000000e+00]\n",
            " [3.9988484e-02]\n",
            " [4.4397618e-11]\n",
            " [9.9995679e-01]\n",
            " [7.3873222e-01]\n",
            " [9.9993533e-01]\n",
            " [9.9999988e-01]\n",
            " [9.9098343e-01]]\n"
          ]
        }
      ],
      "source": [
        "#predict the test data\n",
        "predictions = model.predict(test_data)\n",
        "print(predictions)"
      ]
    },
    {
      "cell_type": "code",
      "execution_count": null,
      "metadata": {
        "id": "r7XjnjcNyMbv",
        "colab": {
          "base_uri": "https://localhost:8080/"
        },
        "outputId": "d0169962-79c2-406d-caa1-486d280a6447"
      },
      "outputs": [
        {
          "output_type": "execute_result",
          "data": {
            "text/plain": [
              "80"
            ]
          },
          "metadata": {},
          "execution_count": 14
        }
      ],
      "source": [
        "len(predictions)"
      ]
    },
    {
      "cell_type": "code",
      "execution_count": 16,
      "metadata": {
        "colab": {
          "base_uri": "https://localhost:8080/"
        },
        "id": "XwS3JKt-U1CE",
        "outputId": "b529585f-3644-4637-e014-38b5fb103908",
        "collapsed": true
      },
      "outputs": [
        {
          "output_type": "stream",
          "name": "stdout",
          "text": [
            "Mounted at /content/drive\n"
          ]
        }
      ],
      "source": [
        "#My dataset is available in googledrive; so I am accessing my drive from colab\n",
        "from google.colab import drive\n",
        "drive.mount('/content/drive', force_remount=True)\n",
        "#Once this is executed, you will see your drive appearing on the left hand side"
      ]
    },
    {
      "cell_type": "code",
      "execution_count": null,
      "metadata": {
        "id": "oqqBXpuhyd6x",
        "colab": {
          "base_uri": "https://localhost:8080/"
        },
        "outputId": "f42bb082-e7e0-4463-f064-d7c6e2e65bf7"
      },
      "outputs": [
        {
          "output_type": "stream",
          "name": "stdout",
          "text": [
            "Confusion Matrix:\n",
            "[[16 24]\n",
            " [21 19]]\n",
            "Classification Report:\n",
            "              precision    recall  f1-score   support\n",
            "\n",
            "           0       0.43      0.40      0.42        40\n",
            "           1       0.44      0.47      0.46        40\n",
            "\n",
            "    accuracy                           0.44        80\n",
            "   macro avg       0.44      0.44      0.44        80\n",
            "weighted avg       0.44      0.44      0.44        80\n",
            "\n"
          ]
        }
      ],
      "source": [
        "from sklearn.metrics import confusion_matrix, classification_report\n",
        "\n",
        "# Assuming you have ground truth labels (true_labels) and predicted labels (predictions)\n",
        "true_labels = test_data.classes\n",
        "predicted_labels = (predictions > 0.5).astype(int)  # Adjust the threshold as needed\n",
        "\n",
        "# Calculate confusion matrix\n",
        "cm = confusion_matrix(true_labels, predicted_labels)\n",
        "\n",
        "# Print confusion matrix\n",
        "print(\"Confusion Matrix:\")\n",
        "print(cm)\n",
        "\n",
        "# Print classification report\n",
        "print(\"Classification Report:\")\n",
        "print(classification_report(true_labels, predicted_labels))"
      ]
    }
  ],
  "metadata": {
    "accelerator": "TPU",
    "colab": {
      "provenance": []
    },
    "kernelspec": {
      "display_name": "Python 3",
      "name": "python3"
    },
    "language_info": {
      "name": "python"
    }
  },
  "nbformat": 4,
  "nbformat_minor": 0
}